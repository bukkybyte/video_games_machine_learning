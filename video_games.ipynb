{
 "cells": [
  {
   "cell_type": "markdown",
   "metadata": {
    "id": "h_V9Z6nfv841"
   },
   "source": [
    "# Machine Learning Applications:\n",
    "### 1- Sales Prediction Models: Use machine learning to predict future sales based on various features."
   ]
  },
  {
   "cell_type": "code",
   "execution_count": 5,
   "metadata": {
    "colab": {
     "base_uri": "https://localhost:8080/"
    },
    "id": "Li7yMzGcn754",
    "outputId": "09ac7b4c-7d9a-4994-b7fd-87dda99effaa"
   },
   "outputs": [
    {
     "name": "stdout",
     "output_type": "stream",
     "text": [
      "Mean Squared Error (MSE): 1.934878350073142\n",
      "Root Mean Squared Error (RMSE): 1.3909990474738443\n"
     ]
    }
   ],
   "source": [
    "import pandas as pd\n",
    "from sklearn.model_selection import train_test_split\n",
    "from sklearn.linear_model import LinearRegression\n",
    "from sklearn.metrics import mean_squared_error\n",
    "from sklearn.preprocessing import StandardScaler, OneHotEncoder\n",
    "from sklearn.compose import ColumnTransformer\n",
    "from sklearn.pipeline import Pipeline\n",
    "from sklearn.impute import SimpleImputer\n",
    "\n",
    "# Import file\n",
    "df = pd.read_csv(\"Video_Games.csv\")\n",
    "\n",
    "\n",
    "# Select features for prediction and the target variable\n",
    "features = df[['Platform', 'Genre', 'Publisher', 'Critic_Score', 'User_Score']].copy()\n",
    "target = df['Global_Sales']\n",
    "\n",
    "# Handle missing values by imputation or dropping\n",
    "features['User_Score'] = pd.to_numeric(features['User_Score'], errors='coerce')\n",
    "features_clean = features.dropna()  # Dropping rows with missing values\n",
    "target_clean = df.loc[features_clean.index, 'Global_Sales']  # Ensure target aligns with features\n",
    "\n",
    "# Convert categorical variables using One-Hot Encoding\n",
    "categorical_features = ['Platform', 'Genre', 'Publisher']\n",
    "numerical_features = ['Critic_Score', 'User_Score']\n",
    "\n",
    "# Create preprocessing pipelines for both numeric and categorical data\n",
    "numeric_transformer = Pipeline(steps=[\n",
    "    ('imputer', SimpleImputer(strategy='median')),\n",
    "    ('scaler', StandardScaler())])\n",
    "\n",
    "categorical_transformer = Pipeline(steps=[\n",
    "    ('imputer', SimpleImputer(strategy='constant', fill_value='missing')),\n",
    "    ('onehot', OneHotEncoder(handle_unknown='ignore'))])\n",
    "\n",
    "# Combine preprocessing steps\n",
    "preprocessor = ColumnTransformer(\n",
    "    transformers=[\n",
    "        ('num', numeric_transformer, numerical_features),\n",
    "        ('cat', categorical_transformer, categorical_features)])\n",
    "\n",
    "# Create the preprocessing and training pipeline\n",
    "model = Pipeline(steps=[('preprocessor', preprocessor),\n",
    "                        ('regressor', LinearRegression())])\n",
    "\n",
    "# Split the data into training and testing sets\n",
    "X_train, X_test, y_train, y_test = train_test_split(features_clean, target_clean, test_size=0.2, random_state=42)\n",
    "\n",
    "# Train the model\n",
    "model.fit(X_train, y_train)\n",
    "\n",
    "# Predict on the test set\n",
    "y_pred = model.predict(X_test)\n",
    "\n",
    "# Evaluate the model\n",
    "mse = mean_squared_error(y_test, y_pred)\n",
    "rmse = mse ** 0.5\n",
    "\n",
    "print(f'Mean Squared Error (MSE): {mse}')\n",
    "print(f'Root Mean Squared Error (RMSE): {rmse}')\n"
   ]
  },
  {
   "cell_type": "markdown",
   "metadata": {
    "id": "44AVA0Pxynat"
   },
   "source": [
    "### 2- Recommendation Systems: Develop a system to recommend games to users based on their preferences or similar user profiles."
   ]
  },
  {
   "cell_type": "code",
   "execution_count": null,
   "metadata": {
    "colab": {
     "base_uri": "https://localhost:8080/"
    },
    "id": "vSbYPFBGwGdI",
    "outputId": "122d7f01-0614-4eb3-e103-b5268005eef5"
   },
   "outputs": [
    {
     "name": "stdout",
     "output_type": "stream",
     "text": [
      "Recommendations for Wii Sports:\n",
      "3                           Wii Sports Resort\n",
      "13                                    Wii Fit\n",
      "15                               Wii Fit Plus\n",
      "591                    Mario Strikers Charged\n",
      "809                          Mario Sports Mix\n",
      "911                      Mario Super Sluggers\n",
      "1307     New Play Control! Mario Power Tennis\n",
      "6364                              Punch-Out!!\n",
      "7184                         Super Swing Golf\n",
      "12181                            Mario Tennis\n",
      "Name: Name, dtype: object\n",
      "\n",
      "\n",
      "Recommendations for Super Mario Bros.:\n",
      "22                     Super Mario Bros. 3\n",
      "98                     Super Mario Bros. 2\n",
      "574     Super Mario Bros.: The Lost Levels\n",
      "698                            Mario Bros.\n",
      "997                             Kid Icarus\n",
      "1010                     Kirby's Adventure\n",
      "1192                  Donkey Kong Classics\n",
      "1262                           Ice Climber\n",
      "1809                           Donkey Kong\n",
      "1843                       Donkey Kong Jr.\n",
      "Name: Name, dtype: object\n",
      "\n",
      "\n",
      "Recommendations for Mario Kart Wii:\n",
      "3237                      Donkey Kong Barrel Blast\n",
      "3782                                  Excite Truck\n",
      "6528                      ExciteBots: Trick Racing\n",
      "16832                     Donkey Kong Barrel Blast\n",
      "107         The Legend of Zelda: Twilight Princess\n",
      "306             The Legend of Zelda: Skyward Sword\n",
      "1449                              Metroid: Other M\n",
      "2723                    PokePark 2: Wonders Beyond\n",
      "2995     Kirby's Dream Collection: Special Edition\n",
      "4183                                    FlingSmash\n",
      "Name: Name, dtype: object\n",
      "\n",
      "\n",
      "Recommendations for Wii Sports Resort:\n",
      "3                           Wii Sports Resort\n",
      "13                                    Wii Fit\n",
      "15                               Wii Fit Plus\n",
      "591                    Mario Strikers Charged\n",
      "809                          Mario Sports Mix\n",
      "911                      Mario Super Sluggers\n",
      "1307     New Play Control! Mario Power Tennis\n",
      "6364                              Punch-Out!!\n",
      "7184                         Super Swing Golf\n",
      "12181                            Mario Tennis\n",
      "Name: Name, dtype: object\n",
      "\n",
      "\n",
      "Recommendations for Pokemon Red/Pokemon Blue:\n",
      "12                  Pokemon Gold/Pokemon Silver\n",
      "30      Pokémon Yellow: Special Pikachu Edition\n",
      "133                     Pokémon Crystal Version\n",
      "3590                   Hamtaro: Ham-Hams Unite!\n",
      "322       The Legend of Zelda: Link's Awakening\n",
      "897         The Legend of Zelda: Oracle of Ages\n",
      "5711                                 Mario Golf\n",
      "779                                        Golf\n",
      "857                                      Tennis\n",
      "1145                                   Baseball\n",
      "Name: Name, dtype: object\n",
      "\n",
      "\n"
     ]
    }
   ],
   "source": [
    "import pandas as pd\n",
    "from sklearn.feature_extraction.text import TfidfVectorizer\n",
    "from sklearn.metrics.pairwise import linear_kernel\n",
    "\n",
    "\n",
    "# Fill NaN values with the string 'missing' in the categorical columns\n",
    "df.fillna({'Genre': 'missing', 'Platform': 'missing', 'Publisher': 'missing'}, inplace=True)\n",
    "\n",
    "# Create a combined feature by concatenating the string representations of 'Genre', 'Platform', and 'Publisher'\n",
    "df['combined_features'] = (df['Genre'] + \" \" + df['Platform'] + \" \" + df['Publisher']).astype(str)\n",
    "\n",
    "# Initialize the TF-IDF Vectorizer\n",
    "tfidf_vectorizer = TfidfVectorizer(stop_words='english')\n",
    "\n",
    "# Construct the TF-IDF matrix by fitting and transforming the data\n",
    "tfidf_matrix = tfidf_vectorizer.fit_transform(df['combined_features'])\n",
    "\n",
    "# Compute the cosine similarity matrix\n",
    "cosine_sim = linear_kernel(tfidf_matrix, tfidf_matrix)\n",
    "\n",
    "# Function to get recommendations based on a game the user likes\n",
    "def get_recommendations(title, cosine_sim=cosine_sim):\n",
    "    # Check if the title exists in the DataFrame\n",
    "    if title not in df['Name'].values:\n",
    "        return f\"No recommendations found for '{title}' as it's not in the dataset.\"\n",
    "\n",
    "    # Get the index of the game that matches the title\n",
    "    idx = df.index[df['Name'] == title].tolist()[0]\n",
    "\n",
    "    # Get the pairwise similarity scores of all games with that game\n",
    "    sim_scores = list(enumerate(cosine_sim[idx]))\n",
    "\n",
    "    # Sort the games based on the similarity scores\n",
    "    sim_scores = sorted(sim_scores, key=lambda x: x[1], reverse=True)\n",
    "\n",
    "    # Get the scores of the 10 most similar games\n",
    "    sim_scores = sim_scores[1:11]\n",
    "\n",
    "    # Get the game indices\n",
    "    game_indices = [i[0] for i in sim_scores]\n",
    "\n",
    "    # Return the top 10 most similar games\n",
    "    return df['Name'].iloc[game_indices]\n",
    "\n",
    "# Define sample titles for testing the recommendation system\n",
    "# this will select the first 5 games in the dataset and recommend similar games\n",
    "sample_titles = df['Name'].dropna().unique()[:5]\n",
    "\n",
    "# Testing the recommender with the sample titles\n",
    "for title in sample_titles:\n",
    "    print(f\"Recommendations for {title}:\")\n",
    "    recommendations = get_recommendations(title)\n",
    "    print(recommendations)\n",
    "    print(\"\\n\")\n"
   ]
  },
  {
   "cell_type": "code",
   "execution_count": null,
   "metadata": {},
   "outputs": [],
   "source": []
  }
 ],
 "metadata": {
  "colab": {
   "provenance": []
  },
  "kernelspec": {
   "display_name": "base",
   "language": "python",
   "name": "python3"
  },
  "language_info": {
   "codemirror_mode": {
    "name": "ipython",
    "version": 3
   },
   "file_extension": ".py",
   "mimetype": "text/x-python",
   "name": "python",
   "nbconvert_exporter": "python",
   "pygments_lexer": "ipython3",
   "version": "3.12.4"
  }
 },
 "nbformat": 4,
 "nbformat_minor": 0
}
